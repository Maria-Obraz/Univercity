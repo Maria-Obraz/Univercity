{
 "nbformat": 4,
 "nbformat_minor": 0,
 "metadata": {
  "colab": {
   "provenance": []
  },
  "kernelspec": {
   "name": "python3",
   "display_name": "Python 3"
  },
  "language_info": {
   "name": "python"
  }
 },
 "cells": [
  {
   "cell_type": "markdown",
   "source": [
    "# Практическая работа №14. Замыкания и декораторы"
   ],
   "metadata": {
    "id": "0Wg68oC9ZP_Z"
   }
  },
  {
   "cell_type": "markdown",
   "source": [
    "[Ссылка на код с пары](https://colab.research.google.com/drive/1YYv4KOSjf9Da-4fIZsPyxWJDYE15ICzs?usp=sharing)"
   ],
   "metadata": {
    "id": "ELt2MWNR0kCj"
   }
  },
  {
   "cell_type": "markdown",
   "metadata": {
    "id": "eVsLMeozyshu"
   },
   "source": [
    "## Задание №1. Напишите две функции создания списка из четных чисел от 0 до N (N – аргумент функции): ([0, 2, 4, …, N]). В первой функции должна быть реализация с помощью метода append, во второй функции с помощью инструмента list comprehensions (генератор списков). После этого, через декоратор, определите время работы этих функций\n",
    "\n"
   ]
  },
  {
   "cell_type": "code",
   "source": [
    "import time\n",
    "\n",
    "def time_it(func):\n",
    "    def wrapper(*args, **kwargs):\n",
    "        start = time.time()\n",
    "        result = func(*args, **kwargs)\n",
    "        end = time.time()\n",
    "        print(f\"{func.__name__} took {end - start:.8f} seconds\")\n",
    "        return result\n",
    "    return wrapper\n",
    "\n",
    "@time_it\n",
    "def create_even_list_with_append(N):\n",
    "    even_list = []\n",
    "    for i in range(N+1):\n",
    "        if i % 2 == 0:\n",
    "            even_list.append(i)\n",
    "    return even_list\n",
    "\n",
    "@time_it\n",
    "def create_even_list_with_list_comprehension(N):\n",
    "    even_list = [i for i in range(N+1) if i % 2 == 0]\n",
    "    return even_list\n",
    "\n",
    "even_list1 = create_even_list_with_append(100000)\n",
    "even_list2 = create_even_list_with_list_comprehension(100000)"
   ],
   "metadata": {
    "id": "04AwDHUyZe6F"
   },
   "execution_count": 1,
   "outputs": [
    {
     "name": "stdout",
     "output_type": "stream",
     "text": [
      "create_even_list_with_append took 0.01562428 seconds\n",
      "create_even_list_with_list_comprehension took 0.01562309 seconds\n"
     ]
    }
   ]
  },
  {
   "cell_type": "markdown",
   "source": [
    "## Задание №2. Напишите декоратор для кэширования результатов работы функции вычисляющей значение n-го числа [ряда Фибоначчи](https://ru.wikipedia.org/wiki/Числа_Фибоначчи)."
   ],
   "metadata": {
    "id": "bqCd0fFkZfAz"
   }
  },
  {
   "cell_type": "markdown",
   "source": [
    "То есть, при повторном вызове функции (через декоратор) уже имеющийся результат должен браться из кэша, а не вычисляться заново. \n",
    "\n",
    "* Например: при значении парамаетра n = 5, должна кэшироваться последовательность (0, 1, 1, 2, 3, 5), \n",
    "* Вызывая после этого целевую функцию через декоратор ещё раз, при подаче на вход значения n = 3, из кэша должен подгрузиться уже заранее вычесленный результат, за исключением двух последних чисел (0, 1, 1, 2).\n",
    "* В случае, если следующее переданное значение будет больше предыдущих, например n = 10, то вычисление следующих чисел ряда должно начинаться с закэшированной последовательности (0, 1, 1, 2, 3, 5)\n",
    "\n",
    "(Подсказка: здесь следует использовать замыкание для хранения кэша.)"
   ],
   "metadata": {
    "id": "DfDtOSmDl7ic"
   }
  },
  {
   "cell_type": "code",
   "source": [
    "def cache(func):\n",
    "    cached_values = {}\n",
    "    def wrapper(n):\n",
    "        if n not in cached_values:\n",
    "            cached_values[n] = func(n)\n",
    "        return cached_values[n]\n",
    "    return wrapper\n",
    "\n",
    "@cache\n",
    "def fibonacci(n):\n",
    "    if n < 2:\n",
    "        return n\n",
    "    return fibonacci(n-1) + fibonacci(n-2)\n",
    "\n",
    "result = fibonacci(10)\n",
    "print(result)\n",
    "result = fibonacci(5)\n",
    "print(result)\n"
   ],
   "metadata": {
    "id": "CtbbsIBsZfHB"
   },
   "execution_count": 36,
   "outputs": [
    {
     "name": "stdout",
     "output_type": "stream",
     "text": [
      "55\n",
      "5\n"
     ]
    }
   ]
  },
  {
   "cell_type": "markdown",
   "source": [
    "## Задание №3. Примените к функции из задания №2 сразу два декоратора - определяющий время выполнения и кеширующий значения. Сравните время работы функции с использованием кеширования параметров и без использования"
   ],
   "metadata": {
    "id": "zY5zVHuifDve"
   }
  },
  {
   "cell_type": "code",
   "source": [
    "import time\n",
    "\n",
    "def timer(func):\n",
    "    def wrapper(*args, **kwargs):\n",
    "        start = time.time()\n",
    "        result = func(*args, **kwargs)\n",
    "        end = time.time()\n",
    "        print(f\"{func.__name__} took {end - start:.8f} seconds\")\n",
    "        return result\n",
    "    return wrapper\n",
    "\n",
    "def cache_result(func):\n",
    "    cached_values = {}\n",
    "    def wrapper(n):\n",
    "        if n not in cached_values:\n",
    "            cached_values[n] = func(n)\n",
    "        return cached_values[n]\n",
    "    return wrapper\n",
    "\n",
    "@cache_result\n",
    "@timer\n",
    "def fibonacci_series(n):\n",
    "    if n < 2:\n",
    "        return n\n",
    "    return fibonacci_series(n-1) + fibonacci_series(n-2)\n",
    "\n",
    "result = fibonacci_series(35)\n",
    "result = fibonacci_series(35)"
   ],
   "metadata": {
    "id": "dXuu8LJgg-0r",
    "pycharm": {
     "name": "#%%\n"
    }
   },
   "execution_count": 38,
   "outputs": [
    {
     "name": "stdout",
     "output_type": "stream",
     "text": [
      "fibonacci_series took 0.00000000 seconds\n",
      "fibonacci_series took 0.00000000 seconds\n",
      "fibonacci_series took 0.00000000 seconds\n",
      "fibonacci_series took 0.00000000 seconds\n",
      "fibonacci_series took 0.00000000 seconds\n",
      "fibonacci_series took 0.00000000 seconds\n",
      "fibonacci_series took 0.00000000 seconds\n",
      "fibonacci_series took 0.00000000 seconds\n",
      "fibonacci_series took 0.00000000 seconds\n",
      "fibonacci_series took 0.00000000 seconds\n",
      "fibonacci_series took 0.00000000 seconds\n",
      "fibonacci_series took 0.00000000 seconds\n",
      "fibonacci_series took 0.00000000 seconds\n",
      "fibonacci_series took 0.00000000 seconds\n",
      "fibonacci_series took 0.00000000 seconds\n",
      "fibonacci_series took 0.00000000 seconds\n",
      "fibonacci_series took 0.00000000 seconds\n",
      "fibonacci_series took 0.00000000 seconds\n",
      "fibonacci_series took 0.00000000 seconds\n",
      "fibonacci_series took 0.00000000 seconds\n",
      "fibonacci_series took 0.00000000 seconds\n",
      "fibonacci_series took 0.00000000 seconds\n",
      "fibonacci_series took 0.00000000 seconds\n",
      "fibonacci_series took 0.00000000 seconds\n",
      "fibonacci_series took 0.00000000 seconds\n",
      "fibonacci_series took 0.00000000 seconds\n",
      "fibonacci_series took 0.00000000 seconds\n",
      "fibonacci_series took 0.00000000 seconds\n",
      "fibonacci_series took 0.00000000 seconds\n",
      "fibonacci_series took 0.00000000 seconds\n",
      "fibonacci_series took 0.00000000 seconds\n",
      "fibonacci_series took 0.00000000 seconds\n",
      "fibonacci_series took 0.00000000 seconds\n",
      "fibonacci_series took 0.00000000 seconds\n",
      "fibonacci_series took 0.00000000 seconds\n",
      "fibonacci_series took 0.00000000 seconds\n"
     ]
    }
   ]
  }
 ]
}